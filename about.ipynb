{
  "cells": [
    {
      "cell_type": "raw",
      "metadata": {},
      "source": [
        "---\n",
        "title: About\n",
        "---"
      ],
      "id": "3644da82"
    },
    {
      "cell_type": "markdown",
      "metadata": {},
      "source": [
        "About this site\n"
      ],
      "id": "65500e09"
    },
    {
      "cell_type": "code",
      "metadata": {},
      "source": [
        "1 + 1"
      ],
      "id": "e81b788b",
      "execution_count": null,
      "outputs": []
    }
  ],
  "metadata": {
    "kernelspec": {
      "name": "julia-1.8",
      "language": "julia",
      "display_name": "Julia 1.8.0-beta3"
    }
  },
  "nbformat": 4,
  "nbformat_minor": 5
}